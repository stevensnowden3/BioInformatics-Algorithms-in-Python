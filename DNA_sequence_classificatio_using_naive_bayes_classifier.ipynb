{
 "cells": [
  {
   "cell_type": "markdown",
   "id": "several-truck",
   "metadata": {
    "papermill": {
     "duration": 0.027068,
     "end_time": "2021-06-21T15:21:39.114660",
     "exception": false,
     "start_time": "2021-06-21T15:21:39.087592",
     "status": "completed"
    },
    "tags": []
   },
   "source": [
    "# DNA sequence classification using Naive Bayes Classifier\n",
    "\n",
    "                    KWESIGA KATO STEVEN 2018/BCS/034/PS\n",
    "                    AKANKUNDA DARIUS    2018/BCS/O13/PS\n"
   ]
  },
  {
   "cell_type": "markdown",
   "id": "blank-mouse",
   "metadata": {
    "papermill": {
     "duration": 0.026553,
     "end_time": "2021-06-21T15:21:39.166663",
     "exception": false,
     "start_time": "2021-06-21T15:21:39.140110",
     "status": "completed"
    },
    "tags": []
   },
   "source": [
    "## What is DNA Sequencing?\n",
    "**DNA sequencing is a laboratory technique used to determine the exact sequence of bases (A, C, G, and T) in a DNA molecule.*DNA sequence information is important to scientists investigating the functions of genes*. The technology of DNA sequencing was made faster and less expensive as a part of the Human Genome Project.**"
   ]
  },
  {
   "cell_type": "markdown",
   "id": "affecting-radio",
   "metadata": {
    "papermill": {
     "duration": 0.025317,
     "end_time": "2021-06-21T15:21:39.217485",
     "exception": false,
     "start_time": "2021-06-21T15:21:39.192168",
     "status": "completed"
    },
    "tags": []
   },
   "source": [
    "# What is Gene?\n",
    "\n",
    "**Genes are a set of instructions that determine what the organism is like, its appearance, how it survives, and how it behaves in its environment.**\n",
    "\n",
    "**A gene consists of a long combination of four different nucleotide bases, or chemicals. There are many possible combinations.**\n",
    "\n",
    "**The four nucleotides are:**\n",
    "\n",
    "**A (adenine)\n",
    "C (cytosine)\n",
    "G (guanine)\n",
    "T (thymine)\n",
    "Different combinations of the letters ACGT give people different characteristics. For example, a person with the combination ATCGTT may have blue eyes, while somebody with the combination ATCGCT may have brown eyes.**"
   ]
  },
  {
   "cell_type": "markdown",
   "id": "thermal-prior",
   "metadata": {
    "papermill": {
     "duration": 0.025592,
     "end_time": "2021-06-21T15:21:39.268579",
     "exception": false,
     "start_time": "2021-06-21T15:21:39.242987",
     "status": "completed"
    },
    "tags": []
   },
   "source": [
    "# Project introduction\n",
    "\n",
    "The purpose of this Notebook is to develop an approach in classifying DNA sequences using Naive Bayes algorithm while considering DNA sequences as text data."
   ]
  },
  {
   "cell_type": "code",
   "execution_count": 2,
   "id": "solved-classroom",
   "metadata": {
    "execution": {
     "iopub.execute_input": "2021-06-21T15:21:39.741998Z",
     "iopub.status.busy": "2021-06-21T15:21:39.741110Z",
     "iopub.status.idle": "2021-06-21T15:21:40.724482Z",
     "shell.execute_reply": "2021-06-21T15:21:40.723933Z",
     "shell.execute_reply.started": "2021-06-21T15:14:14.482743Z"
    },
    "papermill": {
     "duration": 1.039096,
     "end_time": "2021-06-21T15:21:40.724621",
     "exception": false,
     "start_time": "2021-06-21T15:21:39.685525",
     "status": "completed"
    },
    "tags": []
   },
   "outputs": [],
   "source": [
    "import numpy as np\n",
    "import pandas as pd\n",
    "import seaborn as sns\n",
    "import matplotlib.pyplot as plt\n",
    "%matplotlib inline  "
   ]
  },
  {
   "cell_type": "markdown",
   "id": "waiting-exemption",
   "metadata": {
    "papermill": {
     "duration": 0.041254,
     "end_time": "2021-06-21T15:21:40.807797",
     "exception": false,
     "start_time": "2021-06-21T15:21:40.766543",
     "status": "completed"
    },
    "tags": []
   },
   "source": [
    "### In this project, We applied a classification algorithm on 3 datasets; ie dataset for human, chimpanzee and dog. Lets open the data for human and see what we have."
   ]
  },
  {
   "cell_type": "code",
   "execution_count": 3,
   "id": "compliant-aside",
   "metadata": {
    "execution": {
     "iopub.execute_input": "2021-06-21T15:21:40.895108Z",
     "iopub.status.busy": "2021-06-21T15:21:40.894373Z",
     "iopub.status.idle": "2021-06-21T15:21:41.063763Z",
     "shell.execute_reply": "2021-06-21T15:21:41.063231Z",
     "shell.execute_reply.started": "2021-06-21T15:14:14.534713Z"
    },
    "papermill": {
     "duration": 0.214941,
     "end_time": "2021-06-21T15:21:41.063902",
     "exception": false,
     "start_time": "2021-06-21T15:21:40.848961",
     "status": "completed"
    },
    "tags": []
   },
   "outputs": [
    {
     "data": {
      "text/html": [
       "<div>\n",
       "<style scoped>\n",
       "    .dataframe tbody tr th:only-of-type {\n",
       "        vertical-align: middle;\n",
       "    }\n",
       "\n",
       "    .dataframe tbody tr th {\n",
       "        vertical-align: top;\n",
       "    }\n",
       "\n",
       "    .dataframe thead th {\n",
       "        text-align: right;\n",
       "    }\n",
       "</style>\n",
       "<table border=\"1\" class=\"dataframe\">\n",
       "  <thead>\n",
       "    <tr style=\"text-align: right;\">\n",
       "      <th></th>\n",
       "      <th>sequence</th>\n",
       "      <th>class</th>\n",
       "    </tr>\n",
       "  </thead>\n",
       "  <tbody>\n",
       "    <tr>\n",
       "      <th>0</th>\n",
       "      <td>ATGCCCCAACTAAATACTACCGTATGGCCCACCATAATTACCCCCA...</td>\n",
       "      <td>4</td>\n",
       "    </tr>\n",
       "    <tr>\n",
       "      <th>1</th>\n",
       "      <td>ATGAACGAAAATCTGTTCGCTTCATTCATTGCCCCCACAATCCTAG...</td>\n",
       "      <td>4</td>\n",
       "    </tr>\n",
       "    <tr>\n",
       "      <th>2</th>\n",
       "      <td>ATGTGTGGCATTTGGGCGCTGTTTGGCAGTGATGATTGCCTTTCTG...</td>\n",
       "      <td>3</td>\n",
       "    </tr>\n",
       "    <tr>\n",
       "      <th>3</th>\n",
       "      <td>ATGTGTGGCATTTGGGCGCTGTTTGGCAGTGATGATTGCCTTTCTG...</td>\n",
       "      <td>3</td>\n",
       "    </tr>\n",
       "    <tr>\n",
       "      <th>4</th>\n",
       "      <td>ATGCAACAGCATTTTGAATTTGAATACCAGACCAAAGTGGATGGTG...</td>\n",
       "      <td>3</td>\n",
       "    </tr>\n",
       "  </tbody>\n",
       "</table>\n",
       "</div>"
      ],
      "text/plain": [
       "                                            sequence  class\n",
       "0  ATGCCCCAACTAAATACTACCGTATGGCCCACCATAATTACCCCCA...      4\n",
       "1  ATGAACGAAAATCTGTTCGCTTCATTCATTGCCCCCACAATCCTAG...      4\n",
       "2  ATGTGTGGCATTTGGGCGCTGTTTGGCAGTGATGATTGCCTTTCTG...      3\n",
       "3  ATGTGTGGCATTTGGGCGCTGTTTGGCAGTGATGATTGCCTTTCTG...      3\n",
       "4  ATGCAACAGCATTTTGAATTTGAATACCAGACCAAAGTGGATGGTG...      3"
      ]
     },
     "execution_count": 3,
     "metadata": {},
     "output_type": "execute_result"
    }
   ],
   "source": [
    "human_data = pd.read_table('human_data.txt')\n",
    "human_data.head()"
   ]
  },
  {
   "cell_type": "markdown",
   "id": "center-concentrate",
   "metadata": {
    "papermill": {
     "duration": 0.041794,
     "end_time": "2021-06-21T15:21:41.147377",
     "exception": false,
     "start_time": "2021-06-21T15:21:41.105583",
     "status": "completed"
    },
    "tags": []
   },
   "source": [
    "### We have some data for human DNA sequence coding regions and a class label.  We also have data for Chimpanzee and a more divergent species, the dog."
   ]
  },
  {
   "cell_type": "code",
   "execution_count": 4,
   "id": "executed-advertising",
   "metadata": {
    "execution": {
     "iopub.execute_input": "2021-06-21T15:21:41.236012Z",
     "iopub.status.busy": "2021-06-21T15:21:41.235338Z",
     "iopub.status.idle": "2021-06-21T15:21:41.375009Z",
     "shell.execute_reply": "2021-06-21T15:21:41.374290Z",
     "shell.execute_reply.started": "2021-06-21T15:14:14.608745Z"
    },
    "papermill": {
     "duration": 0.185725,
     "end_time": "2021-06-21T15:21:41.375184",
     "exception": false,
     "start_time": "2021-06-21T15:21:41.189459",
     "status": "completed"
    },
    "tags": []
   },
   "outputs": [
    {
     "data": {
      "text/html": [
       "<div>\n",
       "<style scoped>\n",
       "    .dataframe tbody tr th:only-of-type {\n",
       "        vertical-align: middle;\n",
       "    }\n",
       "\n",
       "    .dataframe tbody tr th {\n",
       "        vertical-align: top;\n",
       "    }\n",
       "\n",
       "    .dataframe thead th {\n",
       "        text-align: right;\n",
       "    }\n",
       "</style>\n",
       "<table border=\"1\" class=\"dataframe\">\n",
       "  <thead>\n",
       "    <tr style=\"text-align: right;\">\n",
       "      <th></th>\n",
       "      <th>sequence</th>\n",
       "      <th>class</th>\n",
       "    </tr>\n",
       "  </thead>\n",
       "  <tbody>\n",
       "    <tr>\n",
       "      <th>0</th>\n",
       "      <td>ATGCCACAGCTAGATACATCCACCTGATTTATTATAATCTTTTCAA...</td>\n",
       "      <td>4</td>\n",
       "    </tr>\n",
       "    <tr>\n",
       "      <th>1</th>\n",
       "      <td>ATGAACGAAAATCTATTCGCTTCTTTCGCTGCCCCCTCAATAATAG...</td>\n",
       "      <td>4</td>\n",
       "    </tr>\n",
       "    <tr>\n",
       "      <th>2</th>\n",
       "      <td>ATGGAAACACCCTTCTACGGCGATGAGGCGCTGAGCGGCCTGGGCG...</td>\n",
       "      <td>6</td>\n",
       "    </tr>\n",
       "    <tr>\n",
       "      <th>3</th>\n",
       "      <td>ATGTGCACTAAAATGGAACAGCCCTTCTACCACGACGACTCATACG...</td>\n",
       "      <td>6</td>\n",
       "    </tr>\n",
       "    <tr>\n",
       "      <th>4</th>\n",
       "      <td>ATGAGCCGGCAGCTAAACAGAAGCCAGAACTGCTCCTTCAGTGACG...</td>\n",
       "      <td>0</td>\n",
       "    </tr>\n",
       "  </tbody>\n",
       "</table>\n",
       "</div>"
      ],
      "text/plain": [
       "                                            sequence  class\n",
       "0  ATGCCACAGCTAGATACATCCACCTGATTTATTATAATCTTTTCAA...      4\n",
       "1  ATGAACGAAAATCTATTCGCTTCTTTCGCTGCCCCCTCAATAATAG...      4\n",
       "2  ATGGAAACACCCTTCTACGGCGATGAGGCGCTGAGCGGCCTGGGCG...      6\n",
       "3  ATGTGCACTAAAATGGAACAGCCCTTCTACCACGACGACTCATACG...      6\n",
       "4  ATGAGCCGGCAGCTAAACAGAAGCCAGAACTGCTCCTTCAGTGACG...      0"
      ]
     },
     "execution_count": 4,
     "metadata": {},
     "output_type": "execute_result"
    }
   ],
   "source": [
    "chimp_data = pd.read_table('chimp_data.txt')\n",
    "dog_data = pd.read_table('dog_data.txt')\n",
    "chimp_data.head()\n",
    "dog_data.head()"
   ]
  },
  {
   "cell_type": "markdown",
   "id": "c4a02320",
   "metadata": {
    "papermill": {
     "duration": 0.041794,
     "end_time": "2021-06-21T15:21:41.147377",
     "exception": false,
     "start_time": "2021-06-21T15:21:41.105583",
     "status": "completed"
    },
    "tags": []
   },
   "source": [
    "###  Here are the definitions for each of the 7 classes and how many there are in the human training data.  They are gene sequence function groups."
   ]
  },
  {
   "cell_type": "code",
   "execution_count": 7,
   "id": "nervous-olympus",
   "metadata": {
    "execution": {
     "iopub.execute_input": "2021-06-21T15:21:41.661128Z",
     "iopub.status.busy": "2021-06-21T15:21:41.660401Z",
     "iopub.status.idle": "2021-06-21T15:21:41.679457Z",
     "shell.execute_reply": "2021-06-21T15:21:41.679941Z",
     "shell.execute_reply.started": "2021-06-21T15:14:14.881903Z"
    },
    "papermill": {
     "duration": 0.066133,
     "end_time": "2021-06-21T15:21:41.680077",
     "exception": false,
     "start_time": "2021-06-21T15:21:41.613944",
     "status": "completed"
    },
    "tags": []
   },
   "outputs": [
    {
     "data": {
      "image/png": "[encoded data removed]",
      "text/plain": [
       "<IPython.core.display.Image object>"
      ]
     },
     "execution_count": 7,
     "metadata": {},
     "output_type": "execute_result"
    }
   ],
   "source": [
    "from IPython.display import Image\n",
    "Image(\"Capture1.PNG"
   ]
  },
  {
   "cell_type": "markdown",
   "id": "seasonal-equity",
   "metadata": {
    "papermill": {
     "duration": 0.029865,
     "end_time": "2021-06-21T15:21:41.740027",
     "exception": false,
     "start_time": "2021-06-21T15:21:41.710162",
     "status": "completed"
    },
    "tags": []
   },
   "source": [
    "# Treating DNA Sequence as a \"Language\" ,otherwise Known as K-Mer Counting\n",
    "\n",
    "**In bioinformatics, k-mers are substrings of length k contained within a biological sequence. Primarily used within the context of computational genomics and sequence analysis, in which k-mers are composed of nucleotides (i.e. A, T, G, and C).**\n",
    "\n",
    "k-mers are simply length k subsequences. For example, if we use \"words\" of length 6 (hexamers), “ATGCATGCA” sequence becomes: ‘ATGCAT’, ‘TGCATG’, ‘GCATGC’, ‘CATGCA’. Hence our example sequence is broken down into 4 hexamer words.\n",
    "\n",
    "\n",
    "**After converting DNA into string of words called k-mers,the CountVectorizer tool provided by the scikit-learn  library in Python will be used to create a matrix of token counts  that we shall feed into the classifier**\n",
    "\n"
   ]
  },
  {
   "cell_type": "markdown",
   "id": "bright-french",
   "metadata": {
    "papermill": {
     "duration": 0.029964,
     "end_time": "2021-06-21T15:21:41.799755",
     "exception": false,
     "start_time": "2021-06-21T15:21:41.769791",
     "status": "completed"
    },
    "tags": []
   },
   "source": [
    "## We defined a function to collect all possible overlapping k-mers of a specified length from any sequence string."
   ]
  },
  {
   "cell_type": "code",
   "execution_count": 8,
   "id": "friendly-weekly",
   "metadata": {
    "execution": {
     "iopub.execute_input": "2021-06-21T15:21:41.866769Z",
     "iopub.status.busy": "2021-06-21T15:21:41.866220Z",
     "iopub.status.idle": "2021-06-21T15:21:41.871751Z",
     "shell.execute_reply": "2021-06-21T15:21:41.872219Z",
     "shell.execute_reply.started": "2021-06-21T15:14:14.897687Z"
    },
    "papermill": {
     "duration": 0.039993,
     "end_time": "2021-06-21T15:21:41.872370",
     "exception": false,
     "start_time": "2021-06-21T15:21:41.832377",
     "status": "completed"
    },
    "tags": []
   },
   "outputs": [],
   "source": [
    "# function to convert sequence strings into k-mer words, default size = 6 (hexamer words)\n",
    "def getKmers(sequence, size=6):\n",
    "    return [sequence[x:x+size].lower() for x in range(len(sequence) - size + 1)]"
   ]
  },
  {
   "cell_type": "markdown",
   "id": "geographic-biotechnology",
   "metadata": {
    "papermill": {
     "duration": 0.030575,
     "end_time": "2021-06-21T15:21:41.934799",
     "exception": false,
     "start_time": "2021-06-21T15:21:41.904224",
     "status": "completed"
    },
    "tags": []
   },
   "source": [
    "### Now we  converted our training data sequences into short overlapping k-mers of legth 6. We did that for each species of data we had using our getKmers function."
   ]
  },
  {
   "cell_type": "code",
   "execution_count": 9,
   "id": "engaged-launch",
   "metadata": {
    "execution": {
     "iopub.execute_input": "2021-06-21T15:21:41.999147Z",
     "iopub.status.busy": "2021-06-21T15:21:41.998611Z",
     "iopub.status.idle": "2021-06-21T15:21:46.770264Z",
     "shell.execute_reply": "2021-06-21T15:21:46.768759Z",
     "shell.execute_reply.started": "2021-06-21T15:14:14.908890Z"
    },
    "papermill": {
     "duration": 4.806027,
     "end_time": "2021-06-21T15:21:46.770386",
     "exception": false,
     "start_time": "2021-06-21T15:21:41.964359",
     "status": "completed"
    },
    "tags": []
   },
   "outputs": [],
   "source": [
    "human[\"words\"]=human.apply(lambda x: getKmers(x[\"sequence\"]),axis=1)\n",
    "human.head()\n",
    "chimp['words'] = chimp.apply(lambda x: getKmers(x['sequence']), axis=1)\n",
    "chimp = chimp.drop('sequence', axis=1)\n",
    "dog['words'] = dog.apply(lambda x: getKmers(x['sequence']), axis=1)\n",
    "dog = dog.drop('sequence', axis=1)"
   ]
  },
  {
   "cell_type": "code",
   "execution_count": 10,
   "id": "medieval-competition",
   "metadata": {
    "execution": {
     "iopub.execute_input": "2021-06-21T15:21:46.846293Z",
     "iopub.status.busy": "2021-06-21T15:21:46.845713Z",
     "iopub.status.idle": "2021-06-21T15:21:46.850316Z",
     "shell.execute_reply": "2021-06-21T15:21:46.849839Z",
     "shell.execute_reply.started": "2021-06-21T15:14:18.455060Z"
    },
    "papermill": {
     "duration": 0.049685,
     "end_time": "2021-06-21T15:21:46.850430",
     "exception": false,
     "start_time": "2021-06-21T15:21:46.800745",
     "status": "completed"
    },
    "tags": []
   },
   "outputs": [
    {
     "data": {
      "text/html": [
       "<div>\n",
       "<style scoped>\n",
       "    .dataframe tbody tr th:only-of-type {\n",
       "        vertical-align: middle;\n",
       "    }\n",
       "\n",
       "    .dataframe tbody tr th {\n",
       "        vertical-align: top;\n",
       "    }\n",
       "\n",
       "    .dataframe thead th {\n",
       "        text-align: right;\n",
       "    }\n",
       "</style>\n",
       "<table border=\"1\" class=\"dataframe\">\n",
       "  <thead>\n",
       "    <tr style=\"text-align: right;\">\n",
       "      <th></th>\n",
       "      <th>class</th>\n",
       "      <th>words</th>\n",
       "    </tr>\n",
       "  </thead>\n",
       "  <tbody>\n",
       "    <tr>\n",
       "      <th>0</th>\n",
       "      <td>4</td>\n",
       "      <td>[atgccc, tgcccc, gcccca, ccccaa, cccaac, ccaac...</td>\n",
       "    </tr>\n",
       "    <tr>\n",
       "      <th>1</th>\n",
       "      <td>4</td>\n",
       "      <td>[atgaac, tgaacg, gaacga, aacgaa, acgaaa, cgaaa...</td>\n",
       "    </tr>\n",
       "    <tr>\n",
       "      <th>2</th>\n",
       "      <td>3</td>\n",
       "      <td>[atgtgt, tgtgtg, gtgtgg, tgtggc, gtggca, tggca...</td>\n",
       "    </tr>\n",
       "    <tr>\n",
       "      <th>3</th>\n",
       "      <td>3</td>\n",
       "      <td>[atgtgt, tgtgtg, gtgtgg, tgtggc, gtggca, tggca...</td>\n",
       "    </tr>\n",
       "    <tr>\n",
       "      <th>4</th>\n",
       "      <td>3</td>\n",
       "      <td>[atgcaa, tgcaac, gcaaca, caacag, aacagc, acagc...</td>\n",
       "    </tr>\n",
       "  </tbody>\n",
       "</table>\n",
       "</div>"
      ],
      "text/plain": [
       "   class                                              words\n",
       "0      4  [atgccc, tgcccc, gcccca, ccccaa, cccaac, ccaac...\n",
       "1      4  [atgaac, tgaacg, gaacga, aacgaa, acgaaa, cgaaa...\n",
       "2      3  [atgtgt, tgtgtg, gtgtgg, tgtggc, gtggca, tggca...\n",
       "3      3  [atgtgt, tgtgtg, gtgtgg, tgtggc, gtggca, tggca...\n",
       "4      3  [atgcaa, tgcaac, gcaaca, caacag, aacagc, acagc..."
      ]
     },
     "execution_count": 10,
     "metadata": {},
     "output_type": "execute_result"
    }
   ],
   "source": [
    "human=human.drop(\"sequence\",axis=1)\n",
    "#human[\"words\"][0]\n",
    "human.head()\n"
   ]
  },
  {
   "cell_type": "code",
   "execution_count": 11,
   "id": "pregnant-demand",
   "metadata": {
    "execution": {
     "iopub.execute_input": "2021-06-21T15:21:46.915208Z",
     "iopub.status.busy": "2021-06-21T15:21:46.914693Z",
     "iopub.status.idle": "2021-06-21T15:21:46.918124Z",
     "shell.execute_reply": "2021-06-21T15:21:46.917544Z",
     "shell.execute_reply.started": "2021-06-21T15:14:18.478234Z"
    },
    "papermill": {
     "duration": 0.037652,
     "end_time": "2021-06-21T15:21:46.918244",
     "exception": false,
     "start_time": "2021-06-21T15:21:46.880592",
     "status": "completed"
    },
    "tags": []
   },
   "outputs": [],
   "source": [
    "#human[\"words\"][2]\n"
   ]
  },
  {
   "cell_type": "markdown",
   "id": "revised-updating",
   "metadata": {
    "papermill": {
     "duration": 0.029527,
     "end_time": "2021-06-21T15:21:46.977825",
     "exception": false,
     "start_time": "2021-06-21T15:21:46.948298",
     "status": "completed"
    },
    "tags": []
   },
   "source": [
    "### Since we  used scikit-learn natural language processing tools to do the k-mer counting, we had to convert the lists of k-mers for each gene into string sentences of words that the count vectorizer could use. We  also made a y variable to hold the class labels."
   ]
  },
  {
   "cell_type": "code",
   "execution_count": 12,
   "id": "deluxe-tunisia",
   "metadata": {
    "execution": {
     "iopub.execute_input": "2021-06-21T15:21:47.043629Z",
     "iopub.status.busy": "2021-06-21T15:21:47.043128Z",
     "iopub.status.idle": "2021-06-21T15:21:47.199829Z",
     "shell.execute_reply": "2021-06-21T15:21:47.200201Z",
     "shell.execute_reply.started": "2021-06-21T15:14:18.483335Z"
    },
    "papermill": {
     "duration": 0.191383,
     "end_time": "2021-06-21T15:21:47.200351",
     "exception": false,
     "start_time": "2021-06-21T15:21:47.008968",
     "status": "completed"
    },
    "tags": []
   },
   "outputs": [],
   "source": [
    "human_texts=list(human[\"words\"])\n",
    "for item in range(len(human_texts)):\n",
    "    human_texts[item] = ' '.join(human_texts[item])\n",
    "y_h = human.iloc[:, 0].values  "
   ]
  },
  {
   "cell_type": "code",
   "execution_count": 13,
   "id": "determined-adelaide",
   "metadata": {
    "execution": {
     "iopub.execute_input": "2021-06-21T15:21:47.265930Z",
     "iopub.status.busy": "2021-06-21T15:21:47.265411Z",
     "iopub.status.idle": "2021-06-21T15:21:47.270447Z",
     "shell.execute_reply": "2021-06-21T15:21:47.270918Z",
     "shell.execute_reply.started": "2021-06-21T15:14:18.676381Z"
    },
    "papermill": {
     "duration": 0.039857,
     "end_time": "2021-06-21T15:21:47.271072",
     "exception": false,
     "start_time": "2021-06-21T15:21:47.231215",
     "status": "completed"
    },
    "tags": []
   },
   "outputs": [
    {
     "data": {
      "text/plain": [
       "'atgtgt tgtgtg gtgtgg tgtggc gtggca tggcat ggcatt gcattt catttg atttgg tttggg ttgggc tgggcg gggcgc ggcgct gcgctg cgctgt gctgtt ctgttt tgtttg gtttgg tttggc ttggca tggcag ggcagt gcagtg cagtga agtgat gtgatg tgatga gatgat atgatt tgattg gattgc attgcc ttgcct tgcctt gccttt cctttc ctttct tttctg ttctgt tctgtt ctgttc tgttca gttcag ttcagt tcagtg cagtgt agtgtc gtgtct tgtctg gtctga tctgag ctgagt tgagtg gagtgc agtgct gtgcta tgctat gctatg ctatga tatgaa atgaag tgaaga gaagat aagatt agattg gattgc attgca ttgcac tgcaca gcacac cacaca acacag cacaga acagag cagagg agaggt gaggtc aggtcc ggtcca gtccag tccaga ccagat cagatg agatgc gatgca atgcat tgcatt gcattc cattcc attccg ttccgt tccgtt ccgttt cgtttt gttttg ttttga tttgag ttgaga tgagaa gagaat agaatg gaatgt aatgtc atgtca tgtcaa gtcaat tcaatg caatgg aatgga atggat tggata ggatac gataca atacac tacacc acacca caccaa accaac ccaact caactg aactgc actgct ctgctg tgctgc gctgct ctgctt tgcttt gctttg ctttgg tttgga ttggat tggatt ggattt gatttc atttca tttcac ttcacc tcaccg caccgg accggt ccggtt cggttg ggttgg gttggc ttggcg tggcgg ggcggt gcggta cggtag ggtagt gtagtt tagttg agttga gttgac ttgacc tgaccc gacccg acccgc cccgct ccgctg cgctgt gctgtt ctgttt tgtttg gtttgg tttgga ttggaa tggaat ggaatg gaatgc aatgca atgcag tgcagc gcagcc cagcca agccaa gccaat ccaatt caattc aattcg attcga ttcgag tcgagt cgagtg gagtga agtgaa gtgaag tgaaga gaagaa aagaaa agaaat gaaata aaatat aatatc atatcc tatccg atccgt tccgta ccgtat cgtatt gtattt tatttg atttgt tttgtg ttgtgg tgtggc gtggct tggctc ggctct gctctg ctctgt tctgtt ctgtta tgttac gttaca ttacaa tacaat acaatg caatgg aatggt atggtg tggtga ggtgaa gtgaaa tgaaat gaaatc aaatct aatcta atctac tctaca ctacaa tacaac acaacc caacca aaccat accata ccataa cataag ataaga taagaa aagaag agaaga gaagat aagatg agatgc gatgca atgcaa tgcaac gcaaca caacag aacagc acagca cagcat agcatt gcattt catttt attttg ttttga tttgaa ttgaat tgaatt gaattt aatttg atttga tttgaa ttgaat tgaata gaatac aatacc atacca taccag accaga ccagac cagacc agacca gaccaa accaaa ccaaag caaagt aaagtg aagtgg agtgga gtggat tggatg ggatgg gatggt atggtg tggtga ggtgag gtgaga tgagat gagata agataa gataat ataatc taatcc aatcct atcctt tccttc ccttca cttcat ttcatc tcatct catctt atcttt tcttta ctttat tttatg ttatga tatgac atgaca tgacaa gacaaa acaaag caaagg aaagga aaggag aggagg ggagga gaggaa aggaat ggaatt gaattg aattga attgag ttgagc tgagca gagcaa agcaaa gcaaac caaaca aaacaa aacaat acaatt caattt aatttg atttgt tttgta ttgtat tgtatg gtatgt tatgtt atgttg tgttgg gttgga ttggat tggatg ggatgg gatggt atggtg tggtgt ggtgtg gtgtgt tgtgtt gtgttt tgtttg gtttgc tttgca ttgcat tgcatt gcattt catttg atttgt tttgtt ttgttt tgtttt gtttta ttttac tttact ttactg tactgg actgga ctggat tggata ggatac gatact atactg tactgc actgcc ctgcca tgccaa gccaat ccaata caataa aataag ataaga taagaa aagaaa agaaag gaaagt aaagtg aagtgt agtgtt gtgttc tgttcc gttcct ttcctg tcctgg cctggg ctgggt tgggta gggtag ggtaga gtagag tagaga agagat gagata agatac gataca atacat tacata acatat catatg atatgg tatgga atggag tggagt ggagtc gagtca agtcag gtcaga tcagac cagacc agacct gacctt accttt cctttg ctttgt tttgtt ttgttt tgttta gtttaa tttaaa ttaaag taaagc aaagca aagcaa agcaat gcaatg caatga aatgac atgaca tgacag gacaga acagaa cagaag agaaga gaagat aagatg agatgg gatgga atggat tggatt ggattt gatttt attttt tttttg ttttgg tttggc ttggct tggctg ggctgt gctgta ctgtat tgtatg gtatgt tatgtt atgttc tgttca gttcag ttcaga tcagaa cagaag agaagc gaagct aagcta agctaa gctaaa ctaaag taaagg aaaggt aaggtc aggtct ggtctt gtcttg tcttgt cttgtt ttgtta tgttac gttaca ttacat tacatt acattg cattga attgaa ttgaag tgaagc gaagca aagcac agcact gcactc cactcc actccg ctccgc tccgcg ccgcga cgcgac gcgact cgactc gactcc actccc ctccct tccctt cccttt cctttt cttttt ttttta ttttaa tttaaa ttaaaa taaaag aaaagt aaagtg aagtgg agtgga gtggag tggagc ggagcc gagcct agcctt gccttt cctttt cttttc ttttct tttctt ttcttc tcttcc cttcct ttcctg tcctgg cctgga ctggac tggaca ggacac gacact acacta cactat actatg ctatga tatgaa atgaag tgaagt gaagtt aagttt agtttt gttttg ttttgg tttgga ttggat tggatt ggattt gattta atttaa tttaaa ttaaag taaagc aaagcc aagcca agccaa gccaaa ccaaat caaatg aaatgg aatggc atggca tggcaa ggcaaa gcaaag caaagt aaagtt aagttg agttgc gttgca ttgcat tgcatc gcatcc catccg atccgt tccgtg ccgtgg cgtgga gtggaa tggaaa ggaaat gaaatg aaatgg aatggt atggtt tggtta ggttaa gttaaa ttaaat taaata aaatat aatatc atatca tatcat atcatc tcatca catcac atcact tcactg cactgt actgtc ctgtcg tgtcgg gtcggg tcggga cgggat gggatg ggatgt gatgta atgtac tgtacc gtaccc tacccc acccct cccctg ccctgc cctgca ctgcac tgcacg gcacgc cacgcc acgccc cgccct gccctc ccctct cctcta ctctat tctatg ctatga tatgac atgaca tgacaa gacaat acaatg caatgt aatgtg atgtgg tgtgga gtggag tggaga ggagaa gagaaa agaaac gaaact aaactc aactct actctt ctcttt tctttc ctttcc tttcca ttccag tccagg ccaggt caggtt aggttt ggtttt gttttg ttttga tttgag ttgaga tgagat gagata agatag gataga atagaa tagaaa agaaac gaaact aaactg aactgt actgtg ctgtga tgtgaa gtgaag tgaaga gaagaa aagaac agaaca gaacaa aacaac acaacc caacct aacctc acctca cctcag ctcagg tcagga caggat aggatc ggatcc gatcct atcctt tccttt cctttt cttttt ttttta ttttaa tttaat ttaata taataa aataat ataatg taatgc aatgct atgctg tgctgt gctgta ctgtaa tgtaaa gtaaag taaaga aaagaa aagaaa agaaac gaaacg aaacgt aacgtt acgttt cgtttg gtttga tttgat ttgatg tgatga gatgac atgaca tgacag gacaga acagac cagaca agacag gacaga acagaa cagaag agaagg gaagga aaggat aggatt ggattg gattgg attggc ttggct tggctg ggctgc gctgcc ctgcct tgcctt gccttt cctttt ctttta ttttat tttatc ttatca tatcag atcagg tcaggg cagggg aggggg gggggc ggggct gggctt ggcttg gcttgg cttgga ttggac tggact ggactc gactcc actcca ctccag tccagc ccagct cagctt agcttg gcttgg cttggt ttggtt tggttg ggttgc gttgct ttgctg tgctgc gctgcc ctgcca tgccac gccact ccactc cactct actctg ctctgt tctgtt ctgttg tgttga gttgaa ttgaag tgaagc gaagca aagcag agcagc gcagct cagctg agctga gctgaa ctgaaa tgaaag gaaaga aaagaa aagaag agaagc gaagcc aagccc agccca gcccaa cccaag ccaagt caagta aagtac agtaca gtacag tacagt acagta cagtat agtatc gtatcc tatcct atcctc tcctct cctctc ctctcc tctcca ctccag tccaga ccagac cagaca agacat gacatt acattt catttg atttgc tttgca ttgcaa tgcaat gcaatt caattg aattgg attggc ttggca tggcat ggcatg gcatgg catgga atggaa tggaag ggaaga gaagac aagaca agacag gacagc acagcc cagccc agcccc gccccg ccccga cccgat ccgatt cgattt gattta atttac tttact ttactg tactgg actggc ctggct tggctg ggctgc gctgct ctgcta tgctag gctaga ctagaa tagaaa agaaag gaaagg aaaggt aaggtg aggtgg ggtggc gtggca tggcag ggcaga gcagat cagatc agatca gatcat atcata tcatat catatt atattg tattgg attgga ttggaa tggaag ggaagt gaagtg aagtga agtgaa gtgaac tgaaca gaacat aacatt acatta cattat attatg ttatga tatgaa atgaag tgaagt gaagtc aagtcc agtcct gtcctt tccttt cctttt cttttt ttttta ttttaa tttaac ttaact taactc aactct actctg ctctga tctgag ctgagg tgagga gaggaa aggaag ggaagg gaaggc aaggca aggcat ggcatt gcattc cattca attcag ttcagg tcaggc caggct aggctc ggctct gctctg ctctgg tctgga ctggat tggatg ggatga gatgaa atgaag tgaagt gaagtc aagtca agtcat gtcata tcatat catatt atattt tatttt attttc ttttcc tttcct ttcctt tccttg ccttgg cttgga ttggaa tggaaa ggaaac gaaact aaactt aactta acttat cttatg ttatga tatgac atgaca tgacat gacatt acatta cattac attaca ttacaa tacaac acaaca caacag aacagt acagtt cagttc agttcg gttcgt ttcgtg tcgtgc cgtgct gtgctt tgcttc gcttca cttcag ttcagt tcagta cagtag agtagg gtaggt taggta aggtat ggtatg gtatgt tatgta atgtat tgtatt gtattt tattta atttaa tttaat ttaatt taattt aatttc atttcc tttcca ttccaa tccaag ccaagt caagta aagtat agtata gtatat tatatt atattc tattcg attcgg ttcgga tcggaa cggaag ggaaga gaagaa aagaac agaaca gaacac aacaca acacag cacaga acagat cagata agatag gatagc atagcg tagcgt agcgtg gcgtgg cgtggt gtggtg tggtga ggtgat gtgatc tgatct gatctt atcttc tcttct cttctc ttctct tctctg ctctgg tctgga ctggag tggaga ggagaa gagaag agaagg gaagga aaggat aggatc ggatca gatcag atcaga tcagat cagatg agatga gatgaa atgaac tgaact gaactt aactta acttac cttacg ttacgc tacgca acgcag cgcagg gcaggg cagggt agggtt gggtta ggttac gttaca ttacat tacata acatat catata atatat tatatt atattt tatttt attttc ttttca tttcac ttcaca tcacaa cacaag acaagg caaggc aaggct aggctc ggctcc gctcct ctcctt tccttc ccttct cttctc ttctcc tctcct ctcctg tcctga cctgaa ctgaaa tgaaaa gaaaaa aaaaag aaaagc aaagcc aagccg agccga gccgag ccgagg cgagga gaggag aggagg ggagga gaggag aggaga ggagag gagagt agagtg gagtga agtgag gtgaga tgagag gagagg agaggc gaggct aggctt ggcttc gcttct cttctg ttctga tctgag ctgagg tgaggg gaggga agggaa gggaac ggaact gaactc aactct actcta ctctat tctatt ctattt tatttg atttgt tttgtt ttgttt tgtttg gtttga tttgat ttgatg tgatgt gatgtt atgttc tgttct gttctc ttctcc tctccg ctccgc tccgcg ccgcgc cgcgca gcgcag cgcaga gcagat cagatc agatcg gatcga atcgaa tcgaac cgaact gaacta aactac actact ctactg tactgc actgct ctgctg tgctgc gctgcc ctgccc tgccca gcccat cccatg ccatgg catggt atggtc tggtct ggtctt gtcttg tcttga cttgaa ttgaac tgaact gaactg aactga actgag ctgaga tgagag gagagt agagtc gagtcc agtccc gtccca tcccat cccatt ccattt catttc atttct tttcta ttctag tctaga ctagat tagatc agatca gatcat atcatc tcatcg catcga atcgat tcgatt cgattt gatttt attttc ttttct tttctt ttcttc tcttcc cttcct ttccta tcctat cctatt ctatta tattac attact ttactt tacttg acttgt cttgtc ttgtct tgtctc gtctct tctctg ctctgc tctgcc ctgcca tgccac gccacc ccacca caccag accaga ccagaa cagaaa agaaat gaaatg aaatga aatgag atgaga tgagaa gagaat agaatt gaattc aattcc attcca ttccaa tccaaa ccaaag caaaga aaagaa aagaat agaatg gaatgg aatggg atggga tgggat gggata ggatag gataga atagaa tagaaa agaaaa gaaaaa aaaaac aaaaca aaacat aacatc acatct catctc atctcc tctcct ctcctg tcctga cctgag ctgaga tgagag gagaga agagag gagaga agagac gagacg agacgt gacgtt acgttt cgtttg gtttga tttgag ttgagg tgagga gaggat aggatt ggattc gattcc attcca ttccaa tccaat ccaatc caatct aatctg atctga tctgat ctgata tgatac gatacc ataccc taccca acccaa cccaaa ccaaag caaaga aaagag aagaga agagat gagatt agattc gattct attctc ttctct tctctg ctctgg tctggc ctggcg tggcga ggcgac gcgacc cgacca gaccaa accaaa ccaaaa caaaag aaaaga aaagaa aagaag agaagc gaagcc aagcct agcctt gccttc ccttca cttcag ttcagt tcagtg cagtga agtgat gtgatg tgatgg gatgga atggaa tggaat ggaata gaataa aataac ataact taactt aacttc acttca cttcag ttcagt tcagtt cagtta agttaa gttaag ttaaga taagaa aagaat agaatt gaattc aattcc attcct ttcctg tcctgg cctggt ctggtt tggttt ggttta gtttaa tttaag ttaaga taagat aagatt agattt gatttt atttta ttttac tttaca ttacag tacagg acagga caggaa aggaat ggaata gaatac aatacg atacgt tacgtt acgttg cgttga gttgaa ttgaac tgaaca gaacat aacatc acatca catcag atcagg tcaggt caggtt aggttg ggttga gttgat ttgatg tgatga gatgat atgatg tgatgc gatgca atgcaa tgcaat gcaatg caatga aatgat atgatg tgatgg gatggc atggca tggcaa ggcaaa gcaaat caaatg aaatgc aatgca atgcag tgcagc gcagcc cagccc agccca gcccag cccaga ccagaa cagaaa agaaat gaaatt aaattt aatttc atttcc tttccc ttccct tccctt cccttc ccttca cttcaa ttcaat tcaata caatac aatact atactc tactcc actcct ctccta tcctaa cctaaa ctaaaa taaaac aaaacc aaacca aaccaa accaaa ccaaag caaaga aaagaa aagaag agaagg gaagga aaggat aggata ggatat gatatt atatta tattac attact ttacta tactac actacc ctaccg taccgt accgtc ccgtca cgtcaa gtcaag tcaagt caagtc aagtct agtctt gtcttt tctttg ctttga tttgaa ttgaac tgaacg gaacgc aacgcc acgcca cgccat gccatt ccatta cattac attacc ttaccc taccca acccag cccagg ccaggc caggcc aggccg ggccgg gccggg ccgggc cgggct gggctg ggctga gctgac ctgact tgactg gactgg actggc ctggct tggctg ggctga gctgag ctgagc tgagcc gagcca agccat gccatt ccatta cattac attact ttactg tactgg actgga ctggat tggatg ggatgc gatgcc atgccc tgccca gcccaa cccaag ccaagt caagtg aagtgg agtgga gtggat tggatc ggatca gatcaa atcaat tcaatg caatgc aatgcc atgcca tgccac gccact ccactg cactga actgac ctgacc tgaccc gaccct accctt cccttc ccttct cttctg ttctgc tctgcc ctgccc tgcccg gcccgc cccgca ccgcac cgcacg gcacgc cacgct acgctg cgctga gctgac ctgacc tgaccc gaccca acccac cccact ccacta cactac actaca ctacaa tacaag acaagt caagtc aagtca agtcag gtcagc tcagct cagctg agctgt gctgtc ctgtca tgtcaa gtcaaa tcaaag caaagc aaagct aagctt agctta gcttag'"
      ]
     },
     "execution_count": 13,
     "metadata": {},
     "output_type": "execute_result"
    }
   ],
   "source": [
    "human_texts[2]"
   ]
  },
  {
   "cell_type": "code",
   "execution_count": 14,
   "id": "strategic-junior",
   "metadata": {
    "execution": {
     "iopub.execute_input": "2021-06-21T15:21:47.338389Z",
     "iopub.status.busy": "2021-06-21T15:21:47.337789Z",
     "iopub.status.idle": "2021-06-21T15:21:47.342984Z",
     "shell.execute_reply": "2021-06-21T15:21:47.343410Z",
     "shell.execute_reply.started": "2021-06-21T15:14:18.684417Z"
    },
    "papermill": {
     "duration": 0.041046,
     "end_time": "2021-06-21T15:21:47.343573",
     "exception": false,
     "start_time": "2021-06-21T15:21:47.302527",
     "status": "completed"
    },
    "tags": []
   },
   "outputs": [
    {
     "data": {
      "text/plain": [
       "array([4, 4, 3, ..., 6, 6, 6])"
      ]
     },
     "execution_count": 14,
     "metadata": {},
     "output_type": "execute_result"
    }
   ],
   "source": [
    "y_h"
   ]
  },
  {
   "cell_type": "code",
   "execution_count": 15,
   "id": "compound-turtle",
   "metadata": {
    "execution": {
     "iopub.execute_input": "2021-06-21T15:21:47.411697Z",
     "iopub.status.busy": "2021-06-21T15:21:47.411136Z",
     "iopub.status.idle": "2021-06-21T15:21:47.553906Z",
     "shell.execute_reply": "2021-06-21T15:21:47.553452Z",
     "shell.execute_reply.started": "2021-06-21T15:14:18.696943Z"
    },
    "papermill": {
     "duration": 0.177739,
     "end_time": "2021-06-21T15:21:47.554018",
     "exception": false,
     "start_time": "2021-06-21T15:21:47.376279",
     "status": "completed"
    },
    "tags": []
   },
   "outputs": [],
   "source": [
    "chimp_texts = list(chimp['words'])\n",
    "for item in range(len(chimp_texts)):\n",
    "    chimp_texts[item] = ' '.join(chimp_texts[item])\n",
    "y_c = chimp.iloc[:, 0].values                       # y_c for chimp\n",
    "\n",
    "dog_texts = list(dog['words'])\n",
    "for item in range(len(dog_texts)):\n",
    "    dog_texts[item] = ' '.join(dog_texts[item])\n",
    "y_d = dog.iloc[:, 0].values       "
   ]
  },
  {
   "cell_type": "markdown",
   "id": "middle-stick",
   "metadata": {
    "papermill": {
     "duration": 0.030347,
     "end_time": "2021-06-21T15:21:47.616587",
     "exception": false,
     "start_time": "2021-06-21T15:21:47.586240",
     "status": "completed"
    },
    "tags": []
   },
   "source": [
    "## We used sklearn's \"Natural Language\" Processing tools to convert our k-mer words into uniform length numerical vectors that represent counts for every k-mer.\n",
    "\n",
    "**Feature extraction is the process of taking out a list of words from the text data and then transforming them into a feature set which is usable by a classifier. countVectorizer was used for feature extraction.**"
   ]
  },
  {
   "cell_type": "code",
   "execution_count": 16,
   "id": "fancy-miracle",
   "metadata": {
    "execution": {
     "iopub.execute_input": "2021-06-21T15:21:47.683302Z",
     "iopub.status.busy": "2021-06-21T15:21:47.682603Z",
     "iopub.status.idle": "2021-06-21T15:22:01.770972Z",
     "shell.execute_reply": "2021-06-21T15:22:01.770382Z"
    },
    "papermill": {
     "duration": 14.124133,
     "end_time": "2021-06-21T15:22:01.771087",
     "exception": false,
     "start_time": "2021-06-21T15:21:47.646954",
     "status": "completed"
    },
    "tags": []
   },
   "outputs": [],
   "source": [
    "# Creating the Bag of Words model using CountVectorizer()\n",
    "# This is equivalent to k-mer counting\n",
    "from sklearn.feature_extraction.text import CountVectorizer\n",
    "cv = CountVectorizer(ngram_range=(4,4))\n",
    "X = cv.fit_transform(human_texts)\n",
    "X_chimp = cv.transform(chimp_texts)\n",
    "X_dog = cv.transform(dog_texts)"
   ]
  },
  {
   "cell_type": "markdown",
   "id": "native-dining",
   "metadata": {
    "papermill": {
     "duration": 0.03071,
     "end_time": "2021-06-21T15:22:01.837975",
     "exception": false,
     "start_time": "2021-06-21T15:22:01.807265",
     "status": "completed"
    },
    "tags": []
   },
   "source": [
    "## For human we had 4380 genes converted into uniform length feature vectors of 4-gram k-mer (length 6) counts."
   ]
  },
  {
   "cell_type": "code",
   "execution_count": 17,
   "id": "million-solomon",
   "metadata": {
    "execution": {
     "iopub.execute_input": "2021-06-21T15:22:01.905953Z",
     "iopub.status.busy": "2021-06-21T15:22:01.905160Z",
     "iopub.status.idle": "2021-06-21T15:22:01.909265Z",
     "shell.execute_reply": "2021-06-21T15:22:01.908643Z",
     "shell.execute_reply.started": "2021-06-21T15:16:51.683022Z"
    },
    "papermill": {
     "duration": 0.040373,
     "end_time": "2021-06-21T15:22:01.909399",
     "exception": false,
     "start_time": "2021-06-21T15:22:01.869026",
     "status": "completed"
    },
    "tags": []
   },
   "outputs": [
    {
     "name": "stdout",
     "output_type": "stream",
     "text": [
      "(4380, 232414)\n",
      "(1682, 232414)\n",
      "(820, 232414)\n"
     ]
    }
   ],
   "source": [
    "print(X.shape)\n",
    "print(X_chimp.shape)\n",
    "print(X_dog.shape)"
   ]
  },
  {
   "cell_type": "markdown",
   "id": "6d46dd22",
   "metadata": {
    "papermill": {
     "duration": 0.041794,
     "end_time": "2021-06-21T15:21:41.147377",
     "exception": false,
     "start_time": "2021-06-21T15:21:41.105583",
     "status": "completed"
    },
    "tags": []
   },
   "source": [
    "### If we have a look at class balance we can see we have  relatively balanced datasets."
   ]
  },
  {
   "cell_type": "code",
   "execution_count": 18,
   "id": "curious-gender",
   "metadata": {
    "execution": {
     "iopub.execute_input": "2021-06-21T15:22:02.014796Z",
     "iopub.status.busy": "2021-06-21T15:22:02.011003Z",
     "iopub.status.idle": "2021-06-21T15:22:02.197747Z",
     "shell.execute_reply": "2021-06-21T15:22:02.197063Z",
     "shell.execute_reply.started": "2021-06-21T15:14:29.813616Z"
    },
    "papermill": {
     "duration": 0.241405,
     "end_time": "2021-06-21T15:22:02.197889",
     "exception": false,
     "start_time": "2021-06-21T15:22:01.956484",
     "status": "completed"
    },
    "tags": []
   },
   "outputs": [
    {
     "data": {
      "text/plain": [
       "<AxesSubplot:>"
      ]
     },
     "execution_count": 18,
     "metadata": {},
     "output_type": "execute_result"
    },
    {
     "data": {
      "image/png": "[encoded data removed]",
      "text/plain": [
       "<Figure size 432x288 with 1 Axes>"
      ]
     },
     "metadata": {
      "needs_background": "light"
     },
     "output_type": "display_data"
    }
   ],
   "source": [
    "human[\"class\"].value_counts().sort_index().plot.bar()"
   ]
  },
  {
   "cell_type": "code",
   "execution_count": 19,
   "id": "happy-disabled",
   "metadata": {
    "execution": {
     "iopub.execute_input": "2021-06-21T15:22:02.314741Z",
     "iopub.status.busy": "2021-06-21T15:22:02.313935Z",
     "iopub.status.idle": "2021-06-21T15:22:02.411214Z",
     "shell.execute_reply": "2021-06-21T15:22:02.410551Z",
     "shell.execute_reply.started": "2021-06-21T15:17:22.199512Z"
    },
    "papermill": {
     "duration": 0.165646,
     "end_time": "2021-06-21T15:22:02.411359",
     "exception": false,
     "start_time": "2021-06-21T15:22:02.245713",
     "status": "completed"
    },
    "tags": []
   },
   "outputs": [
    {
     "data": {
      "text/plain": [
       "<AxesSubplot:>"
      ]
     },
     "execution_count": 19,
     "metadata": {},
     "output_type": "execute_result"
    },
    {
     "data": {
      "image/png": "[encoded data removed]",
      "text/plain": [
       "<Figure size 432x288 with 1 Axes>"
      ]
     },
     "metadata": {
      "needs_background": "light"
     },
     "output_type": "display_data"
    }
   ],
   "source": [
    "chimp['class'].value_counts().sort_index().plot.bar()"
   ]
  },
  {
   "cell_type": "code",
   "execution_count": 20,
   "id": "atmospheric-small",
   "metadata": {
    "execution": {
     "iopub.execute_input": "2021-06-21T15:22:02.531402Z",
     "iopub.status.busy": "2021-06-21T15:22:02.530107Z",
     "iopub.status.idle": "2021-06-21T15:22:02.632935Z",
     "shell.execute_reply": "2021-06-21T15:22:02.632102Z",
     "shell.execute_reply.started": "2021-06-21T15:17:45.756818Z"
    },
    "papermill": {
     "duration": 0.173,
     "end_time": "2021-06-21T15:22:02.633073",
     "exception": false,
     "start_time": "2021-06-21T15:22:02.460073",
     "status": "completed"
    },
    "tags": []
   },
   "outputs": [
    {
     "data": {
      "text/plain": [
       "<AxesSubplot:>"
      ]
     },
     "execution_count": 20,
     "metadata": {},
     "output_type": "execute_result"
    },
    {
     "data": {
      "image/png": "[encoded data removed]",
      "text/plain": [
       "<Figure size 432x288 with 1 Axes>"
      ]
     },
     "metadata": {
      "needs_background": "light"
     },
     "output_type": "display_data"
    }
   ],
   "source": [
    "dog['class'].value_counts().sort_index().plot.bar()"
   ]
  },
  {
   "cell_type": "markdown",
   "id": "enhanced-bunny",
   "metadata": {
    "papermill": {
     "duration": 0.04974,
     "end_time": "2021-06-21T15:22:02.731808",
     "exception": false,
     "start_time": "2021-06-21T15:22:02.682068",
     "status": "completed"
    },
    "tags": []
   },
   "source": [
    "#### So now that we know how to transform our DNA sequences into uniform length numerical vectors in the form of k-mer counts and ngrams, we can now go ahead and build a classification model that can predict the DNA sequence function based only on the sequence itself.\n",
    "\n",
    "#### Here I will use the human data to train the model, holding out 20% of the human data to test the model. Then we can really challenge the model's generalizability by trying to predict sequence function in other species (the chimpanzee and dog).\n",
    "\n",
    "#### So below we will - 1: train/test spit. 2: Build simple multinomial naive Bayes classifier and 3: test the model performance."
   ]
  },
  {
   "cell_type": "code",
   "execution_count": 21,
   "id": "imposed-andrew",
   "metadata": {
    "execution": {
     "iopub.execute_input": "2021-06-21T15:22:02.836970Z",
     "iopub.status.busy": "2021-06-21T15:22:02.836281Z",
     "iopub.status.idle": "2021-06-21T15:22:03.190496Z",
     "shell.execute_reply": "2021-06-21T15:22:03.189716Z",
     "shell.execute_reply.started": "2021-06-21T15:14:30.371537Z"
    },
    "papermill": {
     "duration": 0.40913,
     "end_time": "2021-06-21T15:22:03.190654",
     "exception": false,
     "start_time": "2021-06-21T15:22:02.781524",
     "status": "completed"
    },
    "tags": []
   },
   "outputs": [],
   "source": [
    "from sklearn.model_selection import train_test_split\n",
    "x_train,x_test,y_train,y_test=train_test_split(X,y_h,test_size=0.2,random_state=42)"
   ]
  },
  {
   "cell_type": "code",
   "execution_count": 22,
   "id": "typical-landing",
   "metadata": {
    "execution": {
     "iopub.execute_input": "2021-06-21T15:22:03.296990Z",
     "iopub.status.busy": "2021-06-21T15:22:03.296178Z",
     "iopub.status.idle": "2021-06-21T15:22:03.301651Z",
     "shell.execute_reply": "2021-06-21T15:22:03.301104Z",
     "shell.execute_reply.started": "2021-06-21T15:14:30.457362Z"
    },
    "papermill": {
     "duration": 0.060348,
     "end_time": "2021-06-21T15:22:03.301810",
     "exception": false,
     "start_time": "2021-06-21T15:22:03.241462",
     "status": "completed"
    },
    "tags": []
   },
   "outputs": [
    {
     "name": "stdout",
     "output_type": "stream",
     "text": [
      "(3504, 232414)\n",
      "(876, 232414)\n"
     ]
    }
   ],
   "source": [
    "print(x_train.shape)\n",
    "print(x_test.shape)"
   ]
  },
  {
   "cell_type": "code",
   "execution_count": 23,
   "id": "remarkable-holiday",
   "metadata": {
    "execution": {
     "iopub.execute_input": "2021-06-21T15:22:03.406179Z",
     "iopub.status.busy": "2021-06-21T15:22:03.405349Z",
     "iopub.status.idle": "2021-06-21T15:22:03.680991Z",
     "shell.execute_reply": "2021-06-21T15:22:03.680424Z",
     "shell.execute_reply.started": "2021-06-21T15:14:30.463865Z"
    },
    "papermill": {
     "duration": 0.328563,
     "end_time": "2021-06-21T15:22:03.681110",
     "exception": false,
     "start_time": "2021-06-21T15:22:03.352547",
     "status": "completed"
    },
    "tags": []
   },
   "outputs": [
    {
     "data": {
      "text/plain": [
       "MultinomialNB(alpha=0.1)"
      ]
     },
     "execution_count": 23,
     "metadata": {},
     "output_type": "execute_result"
    }
   ],
   "source": [
    "### Multinomial Naive Bayes Classifier ###\n",
    "# The alpha parameter was determined by grid search previously\n",
    "from sklearn.naive_bayes import MultinomialNB\n",
    "classifier = MultinomialNB(alpha=0.1)\n",
    "classifier.fit(x_train, y_train)"
   ]
  },
  {
   "cell_type": "markdown",
   "id": "posted-college",
   "metadata": {
    "papermill": {
     "duration": 0.033493,
     "end_time": "2021-06-21T15:22:03.749735",
     "exception": false,
     "start_time": "2021-06-21T15:22:03.716242",
     "status": "completed"
    },
    "tags": []
   },
   "source": [
    "### Now let's make predictions on the human hold out test set and see how it performes on unseen data."
   ]
  },
  {
   "cell_type": "code",
   "execution_count": 24,
   "id": "macro-botswana",
   "metadata": {
    "execution": {
     "iopub.execute_input": "2021-06-21T15:22:03.823546Z",
     "iopub.status.busy": "2021-06-21T15:22:03.822872Z",
     "iopub.status.idle": "2021-06-21T15:22:03.861909Z",
     "shell.execute_reply": "2021-06-21T15:22:03.861451Z",
     "shell.execute_reply.started": "2021-06-21T15:14:30.672318Z"
    },
    "papermill": {
     "duration": 0.077648,
     "end_time": "2021-06-21T15:22:03.862020",
     "exception": false,
     "start_time": "2021-06-21T15:22:03.784372",
     "status": "completed"
    },
    "tags": []
   },
   "outputs": [],
   "source": [
    "y_pred = classifier.predict(x_test)"
   ]
  },
  {
   "cell_type": "markdown",
   "id": "prompt-granny",
   "metadata": {
    "papermill": {
     "duration": 0.034009,
     "end_time": "2021-06-21T15:22:03.931176",
     "exception": false,
     "start_time": "2021-06-21T15:22:03.897167",
     "status": "completed"
    },
    "tags": []
   },
   "source": [
    "### We did some model performce metrics like the confusion matrix, accuracy, precision, recall and f1 score. We got really good results on our unseen data, so it looks like our model did not overfit to the training data."
   ]
  },
  {
   "cell_type": "code",
   "execution_count": 25,
   "id": "afraid-catch",
   "metadata": {
    "execution": {
     "iopub.execute_input": "2021-06-21T15:22:04.018436Z",
     "iopub.status.busy": "2021-06-21T15:22:04.016595Z",
     "iopub.status.idle": "2021-06-21T15:22:04.063468Z",
     "shell.execute_reply": "2021-06-21T15:22:04.062835Z",
     "shell.execute_reply.started": "2021-06-21T15:14:30.710383Z"
    },
    "papermill": {
     "duration": 0.097876,
     "end_time": "2021-06-21T15:22:04.063612",
     "exception": false,
     "start_time": "2021-06-21T15:22:03.965736",
     "status": "completed"
    },
    "tags": []
   },
   "outputs": [
    {
     "name": "stdout",
     "output_type": "stream",
     "text": [
      "Confusion matrix\n",
      "\n",
      "Predicted   0    1   2    3    4   5    6\n",
      "Actual                                   \n",
      "0          99    0   0    0    1   0    2\n",
      "1           0  104   0    0    0   0    2\n",
      "2           0    0  78    0    0   0    0\n",
      "3           0    0   0  124    0   0    1\n",
      "4           1    0   0    0  143   0    5\n",
      "5           0    0   0    0    0  51    0\n",
      "6           1    0   0    1    0   0  263\n",
      "accuracy = 0.984 \n",
      "precision = 0.984 \n",
      "recall = 0.984 \n",
      "f1 = 0.984\n"
     ]
    }
   ],
   "source": [
    "from sklearn.metrics import accuracy_score, f1_score, precision_score, recall_score\n",
    "print(\"Confusion matrix\\n\")\n",
    "print(pd.crosstab(pd.Series(y_test, name='Actual'), pd.Series(y_pred, name='Predicted')))\n",
    "def get_metrics(y_test, y_predicted):\n",
    "    accuracy = accuracy_score(y_test, y_predicted)\n",
    "    precision = precision_score(y_test, y_predicted, average='weighted')\n",
    "    recall = recall_score(y_test, y_predicted, average='weighted')\n",
    "    f1 = f1_score(y_test, y_predicted, average='weighted')\n",
    "    return accuracy, precision, recall, f1\n",
    "accuracy, precision, recall, f1 = get_metrics(y_test, y_pred)\n",
    "print(\"accuracy = %.3f \\nprecision = %.3f \\nrecall = %.3f \\nf1 = %.3f\" % (accuracy, precision, recall, f1))"
   ]
  },
  {
   "cell_type": "markdown",
   "id": "wound-destination",
   "metadata": {
    "papermill": {
     "duration": 0.049584,
     "end_time": "2021-06-21T15:22:04.163655",
     "exception": false,
     "start_time": "2021-06-21T15:22:04.114071",
     "status": "completed"
    },
    "tags": []
   },
   "source": [
    "### Make predictions for the Chimp and dog sequences¶"
   ]
  },
  {
   "cell_type": "code",
   "execution_count": 26,
   "id": "adult-microphone",
   "metadata": {
    "execution": {
     "iopub.execute_input": "2021-06-21T15:22:04.270311Z",
     "iopub.status.busy": "2021-06-21T15:22:04.269560Z",
     "iopub.status.idle": "2021-06-21T15:22:04.392350Z",
     "shell.execute_reply": "2021-06-21T15:22:04.391789Z",
     "shell.execute_reply.started": "2021-06-21T15:19:30.232080Z"
    },
    "papermill": {
     "duration": 0.177245,
     "end_time": "2021-06-21T15:22:04.392502",
     "exception": false,
     "start_time": "2021-06-21T15:22:04.215257",
     "status": "completed"
    },
    "tags": []
   },
   "outputs": [],
   "source": [
    "# Predicting the chimp, dog and worm sequences\n",
    "y_pred_chimp = classifier.predict(X_chimp)\n",
    "y_pred_dog = classifier.predict(X_dog)"
   ]
  },
  {
   "cell_type": "markdown",
   "id": "round-force",
   "metadata": {
    "papermill": {
     "duration": 0.049603,
     "end_time": "2021-06-21T15:22:04.494114",
     "exception": false,
     "start_time": "2021-06-21T15:22:04.444511",
     "status": "completed"
    },
    "tags": []
   },
   "source": [
    "### Now, let's examine the typical performace metrics for each species."
   ]
  },
  {
   "cell_type": "code",
   "execution_count": 27,
   "id": "painful-electricity",
   "metadata": {
    "execution": {
     "iopub.execute_input": "2021-06-21T15:22:04.603440Z",
     "iopub.status.busy": "2021-06-21T15:22:04.602771Z",
     "iopub.status.idle": "2021-06-21T15:22:04.622072Z",
     "shell.execute_reply": "2021-06-21T15:22:04.622623Z",
     "shell.execute_reply.started": "2021-06-21T15:21:09.555437Z"
    },
    "papermill": {
     "duration": 0.078996,
     "end_time": "2021-06-21T15:22:04.622821",
     "exception": false,
     "start_time": "2021-06-21T15:22:04.543825",
     "status": "completed"
    },
    "tags": []
   },
   "outputs": [
    {
     "name": "stdout",
     "output_type": "stream",
     "text": [
      "Confusion matrix\n",
      "\n",
      "Predicted    0    1    2    3    4    5    6\n",
      "Actual                                      \n",
      "0          232    0    0    0    0    0    2\n",
      "1            0  184    0    0    0    0    1\n",
      "2            0    0  144    0    0    0    0\n",
      "3            0    0    0  227    0    0    1\n",
      "4            2    0    0    0  254    0    5\n",
      "5            0    0    0    0    0  109    0\n",
      "6            0    0    0    0    0    0  521\n",
      "accuracy = 0.993 \n",
      "precision = 0.994 \n",
      "recall = 0.993 \n",
      "f1 = 0.993\n"
     ]
    }
   ],
   "source": [
    "# performance on chimp genes\n",
    "print(\"Confusion matrix\\n\")\n",
    "print(pd.crosstab(pd.Series(y_c, name='Actual'), pd.Series(y_pred_chimp, name='Predicted')))\n",
    "accuracy, precision, recall, f1 = get_metrics(y_c, y_pred_chimp)\n",
    "print(\"accuracy = %.3f \\nprecision = %.3f \\nrecall = %.3f \\nf1 = %.3f\" % (accuracy, precision, recall, f1))"
   ]
  },
  {
   "cell_type": "code",
   "execution_count": 28,
   "id": "amber-yield",
   "metadata": {
    "execution": {
     "iopub.execute_input": "2021-06-21T15:22:04.736074Z",
     "iopub.status.busy": "2021-06-21T15:22:04.735345Z",
     "iopub.status.idle": "2021-06-21T15:22:04.757222Z",
     "shell.execute_reply": "2021-06-21T15:22:04.755623Z",
     "shell.execute_reply.started": "2021-06-21T15:20:36.571306Z"
    },
    "papermill": {
     "duration": 0.083784,
     "end_time": "2021-06-21T15:22:04.757429",
     "exception": false,
     "start_time": "2021-06-21T15:22:04.673645",
     "status": "completed"
    },
    "tags": []
   },
   "outputs": [
    {
     "name": "stdout",
     "output_type": "stream",
     "text": [
      "Confusion matrix\n",
      "\n",
      "Predicted    0   1   2   3    4   5    6\n",
      "Actual                                  \n",
      "0          127   0   0   0    0   0    4\n",
      "1            0  63   0   0    1   0   11\n",
      "2            0   0  49   0    1   0   14\n",
      "3            1   0   0  81    2   0   11\n",
      "4            4   0   0   1  126   0    4\n",
      "5            4   0   0   0    1  53    2\n",
      "6            0   0   0   0    0   0  260\n",
      "accuracy = 0.926 \n",
      "precision = 0.934 \n",
      "recall = 0.926 \n",
      "f1 = 0.925\n"
     ]
    }
   ],
   "source": [
    "# performance on dog genes\n",
    "print(\"Confusion matrix\\n\")\n",
    "print(pd.crosstab(pd.Series(y_d, name='Actual'), pd.Series(y_pred_dog, name='Predicted')))\n",
    "accuracy, precision, recall, f1 = get_metrics(y_d, y_pred_dog)\n",
    "print(\"accuracy = %.3f \\nprecision = %.3f \\nrecall = %.3f \\nf1 = %.3f\" % (accuracy, precision, recall, f1))"
   ]
  },
  {
   "cell_type": "markdown",
   "id": "express-frank",
   "metadata": {
    "papermill": {
     "duration": 0.050537,
     "end_time": "2021-06-21T15:22:04.859384",
     "exception": false,
     "start_time": "2021-06-21T15:22:04.808847",
     "status": "completed"
    },
    "tags": []
   },
   "source": [
    "**The model seems to perform well on human data. It also does on Chimpanzee. The performance on dog is not quite as good. We would expect this since the dog is more divergent from human than the chimpanze.¶**"
   ]
  },
  {
   "cell_type": "code",
   "execution_count": null,
   "id": "tracked-mattress",
   "metadata": {
    "papermill": {
     "duration": 0.050402,
     "end_time": "2021-06-21T15:22:04.960652",
     "exception": false,
     "start_time": "2021-06-21T15:22:04.910250",
     "status": "completed"
    },
    "tags": []
   },
   "outputs": [],
   "source": []
  }
 ],
 "metadata": {
  "kernelspec": {
   "display_name": "Python 3 (ipykernel)",
   "language": "python",
   "name": "python3"
  },
  "language_info": {
   "codemirror_mode": {
    "name": "ipython",
    "version": 3
   },
   "file_extension": ".py",
   "mimetype": "text/x-python",
   "name": "python",
   "nbconvert_exporter": "python",
   "pygments_lexer": "ipython3",
   "version": "3.8.10"
  },
  "papermill": {
   "default_parameters": {},
   "duration": 36.047408,
   "end_time": "2021-06-21T15:22:07.336277",
   "environment_variables": {},
   "exception": null,
   "input_path": "__notebook__.ipynb",
   "output_path": "__notebook__.ipynb",
   "parameters": {},
   "start_time": "2021-06-21T15:21:31.288869",
   "version": "2.3.3"
  }
 },
 "nbformat": 4,
 "nbformat_minor": 5
}
